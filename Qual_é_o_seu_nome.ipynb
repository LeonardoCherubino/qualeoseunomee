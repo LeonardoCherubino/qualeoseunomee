{
  "nbformat": 4,
  "nbformat_minor": 0,
  "metadata": {
    "colab": {
      "name": "Qual é o seu nome.ipynb",
      "provenance": [],
      "authorship_tag": "ABX9TyMf29jVfDfZOpR5OmwbDjz5",
      "include_colab_link": true
    },
    "kernelspec": {
      "name": "python3",
      "display_name": "Python 3"
    },
    "language_info": {
      "name": "python"
    }
  },
  "cells": [
    {
      "cell_type": "markdown",
      "metadata": {
        "id": "view-in-github",
        "colab_type": "text"
      },
      "source": [
        "<a href=\"https://colab.research.google.com/github/LeonardoCherubino/qualeoseunomee/blob/main/Qual_%C3%A9_o_seu_nome.ipynb\" target=\"_parent\"><img src=\"https://colab.research.google.com/assets/colab-badge.svg\" alt=\"Open In Colab\"/></a>"
      ]
    },
    {
      "cell_type": "code",
      "execution_count": 7,
      "metadata": {
        "colab": {
          "base_uri": "https://localhost:8080/"
        },
        "id": "o6GEiLKXZkt3",
        "outputId": "b7848242-d3c5-417a-e53c-c6b84c018bf0"
      },
      "outputs": [
        {
          "output_type": "stream",
          "name": "stdout",
          "text": [
            "Qual é o seu nome?Leo\n",
            "Qual é o seu sobrenome? Gur\n",
            "Leo Gur\n"
          ]
        }
      ],
      "source": [
        "nome = input('Qual é o seu nome?')\n",
        "sobrenome = input('Qual é o seu sobrenome? ')\n",
        "print(nome + ' ' + sobrenome)\n",
        "\n",
        "\n"
      ]
    }
  ]
}