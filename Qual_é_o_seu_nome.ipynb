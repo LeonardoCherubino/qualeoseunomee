{
  "nbformat": 4,
  "nbformat_minor": 0,
  "metadata": {
    "colab": {
      "name": "Qual é o seu nome.ipynb",
      "provenance": [],
      "authorship_tag": "ABX9TyO9BfVFfwXkgXLfPe842NzI",
      "include_colab_link": true
    },
    "kernelspec": {
      "name": "python3",
      "display_name": "Python 3"
    },
    "language_info": {
      "name": "python"
    }
  },
  "cells": [
    {
      "cell_type": "markdown",
      "metadata": {
        "id": "view-in-github",
        "colab_type": "text"
      },
      "source": [
        "<a href=\"https://colab.research.google.com/github/LeonardoCherubino/qualeoseunomee/blob/main/Qual_%C3%A9_o_seu_nome.ipynb\" target=\"_parent\"><img src=\"https://colab.research.google.com/assets/colab-badge.svg\" alt=\"Open In Colab\"/></a>"
      ]
    },
    {
      "cell_type": "code",
      "execution_count": 5,
      "metadata": {
        "colab": {
          "base_uri": "https://localhost:8080/"
        },
        "id": "o6GEiLKXZkt3",
        "outputId": "9bd41c2a-24fe-4e7b-fca1-8ea19cf2531e"
      },
      "outputs": [
        {
          "output_type": "stream",
          "name": "stdout",
          "text": [
            "Qual é o seu nome?Leo\n",
            "Leo\n"
          ]
        }
      ],
      "source": [
        "nome = input('Qual é o seu nome?')\n",
        "print(nome)\n",
        "\n"
      ]
    }
  ]
}